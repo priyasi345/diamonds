{
  "nbformat": 4,
  "nbformat_minor": 0,
  "metadata": {
    "colab": {
      "name": "electricity used by building.ipynb",
      "provenance": []
    },
    "kernelspec": {
      "name": "python3",
      "display_name": "Python 3"
    }
  },
  "cells": [
    {
      "cell_type": "code",
      "metadata": {
        "id": "7PhpIOQC2Ris",
        "colab_type": "code",
        "colab": {}
      },
      "source": [
        "# Suppress warnings \n",
        "import warnings\n",
        "warnings.filterwarnings(\"ignore\", category=DeprecationWarning)\n",
        "warnings.filterwarnings(\"ignore\", category=UserWarning)\n",
        "warnings.filterwarnings(\"ignore\", category=FutureWarning)\n",
        "from IPython.display import HTML\n",
        "\n",
        "\n",
        "HTML('<iframe width=\"1106\" height=\"622\" src=\"https://www.youtube.com/embed/NZyQu1u3N9Y\" frameborder=\"0\" allow=\"accelerometer; autoplay; encrypted-media; gyroscope; picture-in-picture\" allowfullscreen></iframe>')"
      ],
      "execution_count": null,
      "outputs": []
    },
    {
      "cell_type": "code",
      "metadata": {
        "id": "ZxXoNFDTTkWx",
        "colab_type": "code",
        "colab": {}
      },
      "source": [
        "import numpy as np # linear algebra\n",
        "import pandas as pd # data processing, CSV file I/O (e.g. pd.read_csv)\n",
        "import gc\n",
        "\n",
        "# matplotlib and seaborn for plotting\n",
        "import matplotlib.pyplot as plt\n",
        "%matplotlib inline\n",
        "\n",
        "import seaborn as sns\n",
        "import matplotlib.patches as patches\n",
        "\n",
        "from plotly import tools, subplots\n",
        "import plotly.offline as py\n",
        "py.init_notebook_mode(connected=True)\n",
        "import plotly.graph_objs as go\n",
        "import plotly.express as px\n",
        "pd.set_option('max_columns', 150)\n",
        "\n",
        "py.init_notebook_mode(connected=True)\n",
        "from plotly.offline import init_notebook_mode, iplot\n",
        "init_notebook_mode(connected=True)\n",
        "import plotly.graph_objs as go\n",
        "\n",
        "\n"
      ],
      "execution_count": null,
      "outputs": []
    },
    {
      "cell_type": "code",
      "metadata": {
        "id": "R1rkdKY5Tz6_",
        "colab_type": "code",
        "colab": {}
      },
      "source": [
        "%%time\n",
        "root = '../input/ashrae-energy-prediction/'\n",
        "train_df = pd.read_csv(root + 'train.csv')\n",
        "train_df[\"timestamp\"] = pd.to_datetime(train_df[\"timestamp\"], format='%Y-%m-%d %H:%M:%S')\n",
        "\n",
        "weather_train_df = pd.read_csv(root + 'weather_train.csv')\n",
        "test_df = pd.read_csv(root + 'test.csv')\n",
        "weather_test_df = pd.read_csv(root + 'weather_test.csv')\n",
        "building_meta_df = pd.read_csv(root + 'building_metadata.csv')\n",
        "sample_submission = pd.read_csv(root + 'sample_submission.csv')"
      ],
      "execution_count": null,
      "outputs": []
    },
    {
      "cell_type": "code",
      "metadata": {
        "id": "lnrkmPNlT8g_",
        "colab_type": "code",
        "colab": {}
      },
      "source": [
        "print('Size of train_df data', train_df.shape)\n",
        "print('Size of weather_train_df data', weather_train_df.shape)\n",
        "print('Size of weather_test_df data', weather_test_df.shape)\n",
        "print('Size of building_meta_df data', building_meta_df.shape)"
      ],
      "execution_count": null,
      "outputs": []
    },
    {
      "cell_type": "code",
      "metadata": {
        "id": "RpE4Ql6rUAcZ",
        "colab_type": "code",
        "colab": {}
      },
      "source": [
        "## Function to reduce the DF size\n",
        "def reduce_mem_usage(df, verbose=True):\n",
        "    numerics = ['int16', 'int32', 'int64', 'float16', 'float32', 'float64']\n",
        "    start_mem = df.memory_usage().sum() / 1024**2    \n",
        "    for col in df.columns:\n",
        "        col_type = df[col].dtypes\n",
        "        if col_type in numerics:\n",
        "            c_min = df[col].min()\n",
        "            c_max = df[col].max()\n",
        "            if str(col_type)[:3] == 'int':\n",
        "                if c_min > np.iinfo(np.int8).min and c_max < np.iinfo(np.int8).max:\n",
        "                    df[col] = df[col].astype(np.int8)\n",
        "                elif c_min > np.iinfo(np.int16).min and c_max < np.iinfo(np.int16).max:\n",
        "                    df[col] = df[col].astype(np.int16)\n",
        "                elif c_min > np.iinfo(np.int32).min and c_max < np.iinfo(np.int32).max:\n",
        "                    df[col] = df[col].astype(np.int32)\n",
        "                elif c_min > np.iinfo(np.int64).min and c_max < np.iinfo(np.int64).max:\n",
        "                    df[col] = df[col].astype(np.int64)  \n",
        "            else:\n",
        "                if c_min > np.finfo(np.float16).min and c_max < np.finfo(np.float16).max:\n",
        "                    df[col] = df[col].astype(np.float16)\n",
        "                elif c_min > np.finfo(np.float32).min and c_max < np.finfo(np.float32).max:\n",
        "                    df[col] = df[col].astype(np.float32)\n",
        "                else:\n",
        "                    df[col] = df[col].astype(np.float64)    \n",
        "    end_mem = df.memory_usage().sum() / 1024**2\n",
        "    if verbose: print('Mem. usage decreased to {:5.2f} Mb ({:.1f}% reduction)'.format(end_mem, 100 * (start_mem - end_mem) / start_mem))\n",
        "    return df"
      ],
      "execution_count": null,
      "outputs": []
    },
    {
      "cell_type": "code",
      "metadata": {
        "id": "uH1go9sFUIZ_",
        "colab_type": "code",
        "colab": {}
      },
      "source": [
        "train_df = reduce_mem_usage(train_df)\n",
        "test_df = reduce_mem_usage(test_df)\n",
        "\n",
        "weather_train_df = reduce_mem_usage(weather_train_df)\n",
        "weather_test_df = reduce_mem_usage(weather_test_df)\n",
        "building_meta_df = reduce_mem_usage(building_meta_df)"
      ],
      "execution_count": null,
      "outputs": []
    },
    {
      "cell_type": "code",
      "metadata": {
        "id": "rzpICERoUIvR",
        "colab_type": "code",
        "colab": {}
      },
      "source": [
        "train_df.head()"
      ],
      "execution_count": null,
      "outputs": []
    },
    {
      "cell_type": "code",
      "metadata": {
        "id": "W5mx4cGkULpX",
        "colab_type": "code",
        "colab": {}
      },
      "source": [
        "train_df.columns.values"
      ],
      "execution_count": null,
      "outputs": []
    },
    {
      "cell_type": "code",
      "metadata": {
        "id": "e-MonNe_UOKZ",
        "colab_type": "code",
        "colab": {}
      },
      "source": [
        "weather_train_df.head()"
      ],
      "execution_count": null,
      "outputs": []
    },
    {
      "cell_type": "code",
      "metadata": {
        "id": "-MMxOInnUQMB",
        "colab_type": "code",
        "colab": {}
      },
      "source": [
        "weather_train_df.columns.values"
      ],
      "execution_count": null,
      "outputs": []
    },
    {
      "cell_type": "code",
      "metadata": {
        "id": "ulcWjaiIUU2O",
        "colab_type": "code",
        "colab": {}
      },
      "source": [
        "weather_test_df.head()"
      ],
      "execution_count": null,
      "outputs": []
    },
    {
      "cell_type": "code",
      "metadata": {
        "id": "q73S2ydbUb60",
        "colab_type": "code",
        "colab": {}
      },
      "source": [
        "weather_test_df.columns.values"
      ],
      "execution_count": null,
      "outputs": []
    },
    {
      "cell_type": "code",
      "metadata": {
        "id": "_ikLU239Uex-",
        "colab_type": "code",
        "colab": {}
      },
      "source": [
        "building_meta_df.head()"
      ],
      "execution_count": null,
      "outputs": []
    },
    {
      "cell_type": "code",
      "metadata": {
        "id": "dMdBKrsjUgyH",
        "colab_type": "code",
        "colab": {}
      },
      "source": [
        "building_meta_df.columns.values"
      ],
      "execution_count": null,
      "outputs": []
    },
    {
      "cell_type": "code",
      "metadata": {
        "id": "OKmdvpJPUn1k",
        "colab_type": "code",
        "colab": {}
      },
      "source": [
        "for key, d in train_df.groupby('meter_reading'):\n",
        "    break\n",
        "    d.head()\n",
        "plt.figure(figsize = (20,5))\n",
        "d['meter'].plot()"
      ],
      "execution_count": null,
      "outputs": []
    },
    {
      "cell_type": "code",
      "metadata": {
        "id": "NZgfLoWtUquR",
        "colab_type": "code",
        "colab": {}
      },
      "source": [
        "plt.figure(figsize=(8,6))\n",
        "plt.scatter(range(train_df.shape[0]), np.sort(train_df['meter_reading'].values))\n",
        "plt.xlabel('index', fontsize=12)\n",
        "plt.ylabel('meter_reading', fontsize=12)\n",
        "plt.title(\"Target Distribution\", fontsize=14)\n",
        "plt.show()"
      ],
      "execution_count": null,
      "outputs": []
    },
    {
      "cell_type": "code",
      "metadata": {
        "id": "f46KNo6-Utg5",
        "colab_type": "code",
        "colab": {}
      },
      "source": [
        "plt.figure(figsize = (15,5))\n",
        "train_df['meter_reading'].plot()"
      ],
      "execution_count": null,
      "outputs": []
    },
    {
      "cell_type": "code",
      "metadata": {
        "id": "j5ZUvA6RUzge",
        "colab_type": "code",
        "colab": {}
      },
      "source": [
        "train_df['meter_reading'].plot(kind='hist',\n",
        "                            bins=25,\n",
        "                            figsize=(15, 5),\n",
        "                           title='Distribution of Target Variable (meter_reading)')\n",
        "plt.show()"
      ],
      "execution_count": null,
      "outputs": []
    },
    {
      "cell_type": "code",
      "metadata": {
        "id": "BiG1faj2U9st",
        "colab_type": "code",
        "colab": {}
      },
      "source": [
        "# Load data\n",
        "train = train_df.set_index(['timestamp'])\n",
        "\n",
        "# Plot missing values per building/meter\n",
        "f,a=plt.subplots(1,4,figsize=(20,30))\n",
        "for meter in np.arange(4):\n",
        "    df = train[train.meter==meter].copy().reset_index()\n",
        "    df['timestamp'] = pd.to_timedelta(df.timestamp).dt.total_seconds() / 3600\n",
        "    df['timestamp'] = df.timestamp.astype(int)\n",
        "    df.timestamp -= df.timestamp.min()\n",
        "    missmap = np.empty((1449, df.timestamp.max()+1))\n",
        "    missmap.fill(np.nan)\n",
        "    for l in df.values:\n",
        "        if l[2]!=meter:continue\n",
        "        missmap[int(l[1]), int(l[0])] = 0 if l[3]==0 else 1\n",
        "    a[meter].set_title(f'meter {meter:d}')\n",
        "    sns.heatmap(missmap, cmap='Paired', ax=a[meter], cbar=False)"
      ],
      "execution_count": null,
      "outputs": []
    },
    {
      "cell_type": "code",
      "metadata": {
        "id": "VWhAcz2vVHTo",
        "colab_type": "code",
        "colab": {}
      },
      "source": [
        "total = train_df.isnull().sum().sort_values(ascending = False)\n",
        "percent = (train_df.isnull().sum()/train_df.isnull().count()*100).sort_values(ascending = False)\n",
        "missing__train_data  = pd.concat([total, percent], axis=1, keys=['Total', 'Percent'])\n",
        "missing__train_data.head(4)"
      ],
      "execution_count": null,
      "outputs": []
    },
    {
      "cell_type": "code",
      "metadata": {
        "id": "z4l2uGfBVTjD",
        "colab_type": "code",
        "colab": {}
      },
      "source": [
        "# checking missing data\n",
        "total = weather_train_df.isnull().sum().sort_values(ascending = False)\n",
        "percent = (weather_train_df.isnull().sum()/weather_train_df.isnull().count()*100).sort_values(ascending = False)\n",
        "missing_weather_data  = pd.concat([total, percent], axis=1, keys=['Total', 'Percent'])\n",
        "missing_weather_data.head(9)"
      ],
      "execution_count": null,
      "outputs": []
    },
    {
      "cell_type": "code",
      "metadata": {
        "id": "4qiWztw4VT2x",
        "colab_type": "code",
        "colab": {}
      },
      "source": [
        "# checking missing data\n",
        "total = weather_test_df.isnull().sum().sort_values(ascending = False)\n",
        "percent = (weather_test_df.isnull().sum()/weather_test_df.isnull().count()*100).sort_values(ascending = False)\n",
        "missing_weather_test_data  = pd.concat([total, percent], axis=1, keys=['Total', 'Percent'])\n",
        "missing_weather_test_data.head(9)"
      ],
      "execution_count": null,
      "outputs": []
    },
    {
      "cell_type": "code",
      "metadata": {
        "id": "rTPNqv4LVZb5",
        "colab_type": "code",
        "colab": {}
      },
      "source": [
        "# checking missing data\n",
        "total = building_meta_df.isnull().sum().sort_values(ascending = False)\n",
        "percent = (building_meta_df.isnull().sum()/building_meta_df.isnull().count()*100).sort_values(ascending = False)\n",
        "missing_building_meta_df  = pd.concat([total, percent], axis=1, keys=['Total', 'Percent'])\n",
        "missing_building_meta_df.head(6)"
      ],
      "execution_count": null,
      "outputs": []
    },
    {
      "cell_type": "code",
      "metadata": {
        "id": "mOoJzFAoVb-A",
        "colab_type": "code",
        "colab": {}
      },
      "source": [
        "# Number of each type of column\n",
        "train_df.dtypes.value_counts()"
      ],
      "execution_count": null,
      "outputs": []
    },
    {
      "cell_type": "code",
      "metadata": {
        "id": "MnXvFkQ-VkAj",
        "colab_type": "code",
        "colab": {}
      },
      "source": [
        "# Number of unique classes in each object column\n",
        "train_df.select_dtypes('object').apply(pd.Series.nunique, axis = 0)"
      ],
      "execution_count": null,
      "outputs": []
    },
    {
      "cell_type": "code",
      "metadata": {
        "id": "oNlM93xgVkXr",
        "colab_type": "code",
        "colab": {}
      },
      "source": [
        "# Find correlations with the target and sort\n",
        "correlations = train_df.corr()['meter_reading'].sort_values()\n",
        "\n",
        "# Display correlations\n",
        "print('Most Positive Correlations:\\n', correlations.tail(15))\n",
        "print('\\nMost Negative Correlations:\\n', correlations.head(15))"
      ],
      "execution_count": null,
      "outputs": []
    },
    {
      "cell_type": "code",
      "metadata": {
        "id": "0-TjIOV1Vssi",
        "colab_type": "code",
        "colab": {}
      },
      "source": [
        "corrs = train_df.corr()\n",
        "corrs"
      ],
      "execution_count": null,
      "outputs": []
    },
    {
      "cell_type": "code",
      "metadata": {
        "id": "4t_u-AXkVtB3",
        "colab_type": "code",
        "colab": {}
      },
      "source": [
        "plt.figure(figsize = (20, 8))\n",
        "\n",
        "# Heatmap of correlations\n",
        "sns.heatmap(corrs, cmap = plt.cm.RdYlBu_r, vmin = -0.25, annot = True, vmax = 0.6)\n",
        "plt.title('Correlation Heatmap');"
      ],
      "execution_count": null,
      "outputs": []
    },
    {
      "cell_type": "code",
      "metadata": {
        "id": "kxgB1lWkVvii",
        "colab_type": "code",
        "colab": {}
      },
      "source": [
        "train_df.building_id.nunique()"
      ],
      "execution_count": null,
      "outputs": []
    },
    {
      "cell_type": "code",
      "metadata": {
        "id": "j53UJgUcVyAk",
        "colab_type": "code",
        "colab": {}
      },
      "source": [
        "train_df['meter_reading'].hist(figsize=(16, 8))"
      ],
      "execution_count": null,
      "outputs": []
    },
    {
      "cell_type": "code",
      "metadata": {
        "id": "0KcNWevbV0NE",
        "colab_type": "code",
        "colab": {}
      },
      "source": [
        "def plot_dist_col(column):\n",
        "    '''plot dist curves for train and test weather data for the given column name'''\n",
        "    fig, ax = plt.subplots(figsize=(10, 10))\n",
        "    sns.distplot(weather_train_df[column].dropna(), color='green', ax=ax).set_title(column, fontsize=16)\n",
        "    sns.distplot(weather_test_df[column].dropna(), color='purple', ax=ax).set_title(column, fontsize=16)\n",
        "    plt.xlabel(column, fontsize=15)\n",
        "    plt.legend(['train', 'test'])\n",
        "    plt.show()"
      ],
      "execution_count": null,
      "outputs": []
    },
    {
      "cell_type": "code",
      "metadata": {
        "id": "WgUnvZUDV3AS",
        "colab_type": "code",
        "colab": {}
      },
      "source": [
        "plot_dist_col('air_temperature')"
      ],
      "execution_count": null,
      "outputs": []
    },
    {
      "cell_type": "code",
      "metadata": {
        "id": "sz4f5tT-V77H",
        "colab_type": "code",
        "colab": {}
      },
      "source": [
        "plot_dist_col('cloud_coverage')"
      ],
      "execution_count": null,
      "outputs": []
    },
    {
      "cell_type": "code",
      "metadata": {
        "id": "UlnFfrk9WKbt",
        "colab_type": "code",
        "colab": {}
      },
      "source": [
        "plot_dist_col('dew_temperature')"
      ],
      "execution_count": null,
      "outputs": []
    },
    {
      "cell_type": "code",
      "metadata": {
        "id": "v338sfX6WS4l",
        "colab_type": "code",
        "colab": {}
      },
      "source": [
        "plot_dist_col('precip_depth_1_hr')"
      ],
      "execution_count": null,
      "outputs": []
    },
    {
      "cell_type": "code",
      "metadata": {
        "id": "UIPwNH10WWtS",
        "colab_type": "code",
        "colab": {}
      },
      "source": [
        "plot_dist_col('sea_level_pressure')"
      ],
      "execution_count": null,
      "outputs": []
    },
    {
      "cell_type": "code",
      "metadata": {
        "id": "qisrHDW7WXPk",
        "colab_type": "code",
        "colab": {}
      },
      "source": [
        "from statsmodels.tsa.seasonal import seasonal_decompose"
      ],
      "execution_count": null,
      "outputs": []
    },
    {
      "cell_type": "code",
      "metadata": {
        "id": "tH_bo3-PWdl7",
        "colab_type": "code",
        "colab": {}
      },
      "source": [
        "ts=train_df.groupby([\"timestamp\"])[\"meter_reading\"].sum()\n",
        "ts.astype('float')\n",
        "plt.figure(figsize=(16,8))\n",
        "plt.title('meter_reading')\n",
        "plt.xlabel('timestamp')\n",
        "plt.ylabel('meter_reading')\n",
        "plt.plot(ts);"
      ],
      "execution_count": null,
      "outputs": []
    },
    {
      "cell_type": "code",
      "metadata": {
        "id": "DsAAdIIrWd67",
        "colab_type": "code",
        "colab": {}
      },
      "source": [
        "plt.figure(figsize=(16,6))\n",
        "plt.plot(ts.rolling(window=12,center=False).mean(),label='Rolling Mean');\n",
        "plt.plot(ts.rolling(window=12,center=False).std(),label='Rolling sd');\n",
        "plt.legend();"
      ],
      "execution_count": null,
      "outputs": []
    },
    {
      "cell_type": "code",
      "metadata": {
        "id": "7X7K4-YnWgdP",
        "colab_type": "code",
        "colab": {}
      },
      "source": [
        "import statsmodels.api as sm\n",
        "# multiplicative\n",
        "res = sm.tsa.seasonal_decompose(ts.values,freq=12,model=\"multiplicative\")\n",
        "fig = res.plot()"
      ],
      "execution_count": null,
      "outputs": []
    },
    {
      "cell_type": "code",
      "metadata": {
        "id": "kuUISjrhWjSt",
        "colab_type": "code",
        "colab": {}
      },
      "source": [
        "# Additive model\n",
        "res = sm.tsa.seasonal_decompose(ts.values,freq=12,model=\"additive\")\n",
        "fig = res.plot()"
      ],
      "execution_count": null,
      "outputs": []
    },
    {
      "cell_type": "code",
      "metadata": {
        "id": "6sHIhMqIWom3",
        "colab_type": "code",
        "colab": {}
      },
      "source": [
        "\n",
        "y_mean_time = train_df.groupby('timestamp').meter_reading.mean()\n",
        "y_mean_time.plot(figsize=(20, 8))"
      ],
      "execution_count": null,
      "outputs": []
    },
    {
      "cell_type": "code",
      "metadata": {
        "id": "4YvK_CcYWt1h",
        "colab_type": "code",
        "colab": {}
      },
      "source": [
        "y_mean_time.rolling(window=10).std().plot(figsize=(20, 8))\n",
        "ax = plt.axhline(y=0.009, color='red')"
      ],
      "execution_count": null,
      "outputs": []
    },
    {
      "cell_type": "code",
      "metadata": {
        "id": "19NvT34nWxrT",
        "colab_type": "code",
        "colab": {}
      },
      "source": [
        "y_mean_time.rolling(window=10).std().plot(figsize=(20, 8))\n",
        "plt.axhline(y=0.009, color='red')\n",
        "plt.axvspan(0, 905, color='green', alpha=0.1)\n",
        "plt.axvspan(906, 1505, color='red', alpha=0.1)"
      ],
      "execution_count": null,
      "outputs": []
    },
    {
      "cell_type": "code",
      "metadata": {
        "id": "H9I5aGYRW16t",
        "colab_type": "code",
        "colab": {}
      },
      "source": [
        "train_df['meter'] = pd.Categorical(train_df['meter']).rename_categories({0: 'electricity', 1: 'chilledwater', 2: 'steam', 3: 'hotwater'})\n",
        "daily_train = train_df.copy()\n",
        "daily_train['date'] = daily_train['timestamp'].dt.date\n",
        "daily_train = daily_train.groupby(['date', 'building_id', 'meter']).sum()\n",
        "daily_train"
      ],
      "execution_count": null,
      "outputs": []
    },
    {
      "cell_type": "code",
      "metadata": {
        "id": "hYFDEtPsXGMY",
        "colab_type": "code",
        "colab": {}
      },
      "source": [
        "daily_train_agg = daily_train.groupby(['date', 'meter']).agg(['sum', 'mean', 'idxmax', 'max'])\n",
        "daily_train_agg = daily_train_agg.reset_index()\n",
        "level_0 = daily_train_agg.columns.droplevel(0)\n",
        "level_1 = daily_train_agg.columns.droplevel(1)\n",
        "level_0 = ['' if x == '' else '-' + x for x in level_0]\n",
        "daily_train_agg.columns = level_1 + level_0\n",
        "daily_train_agg.rename_axis(None, axis=1)\n",
        "daily_train_agg.head()"
      ],
      "execution_count": null,
      "outputs": []
    },
    {
      "cell_type": "code",
      "metadata": {
        "id": "Pqn2hX2CXI7A",
        "colab_type": "code",
        "colab": {}
      },
      "source": [
        "fig_total = px.line(daily_train_agg, x='date', y='meter_reading-sum', color='meter', render_mode='svg')\n",
        "fig_total.update_layout(title='Total kWh per energy aspect')\n",
        "fig_total.show()"
      ],
      "execution_count": null,
      "outputs": []
    },
    {
      "cell_type": "code",
      "metadata": {
        "id": "6JmmpWDtXJNq",
        "colab_type": "code",
        "colab": {}
      },
      "source": [
        "fig_maximum = px.line(daily_train_agg, x='date', y='meter_reading-max', color='meter', render_mode='svg')\n",
        "fig_maximum.update_layout(title='Maximum kWh value per energy aspect')\n",
        "fig_maximum.show()"
      ],
      "execution_count": null,
      "outputs": []
    },
    {
      "cell_type": "code",
      "metadata": {
        "id": "4g44ydSWXQVz",
        "colab_type": "code",
        "colab": {}
      },
      "source": [
        "daily_train_agg['building_id_max'] = [x[1] for x in daily_train_agg['meter_reading-idxmax']]\n",
        "daily_train_agg.head()def show_building(building, energy_aspects=None):\n",
        "    fig = px.line(daily_train.loc[(slice(None), building, slice(None)), :].reset_index(),\n",
        "                  x='date',\n",
        "                  y='meter_reading',\n",
        "                  color='meter',\n",
        "                  render_mode='svg')\n",
        "    if energy_aspects:\n",
        "        if 'electricity' not in energy_aspects:\n",
        "            fig['data'][0].visible = 'legendonly'\n",
        "        if 'chilledwater' not in energy_aspects:\n",
        "            fig['data'][1].visible = 'legendonly'\n",
        "        if 'steam' not in energy_aspects:\n",
        "            fig['data'][2].visible = 'legendonly'\n",
        "        if 'hotwater' not in energy_aspects:\n",
        "            fig['data'][3].visible = 'legendonly'\n",
        "    fig.update_layout(title='Building ID: {}'.format(building))        \n",
        "    fig.show()\n",
        "    display(building_metadata[building_metadata['building_id']==building])"
      ],
      "execution_count": null,
      "outputs": []
    },
    {
      "cell_type": "code",
      "metadata": {
        "id": "yxz_ULJbXUKa",
        "colab_type": "code",
        "colab": {}
      },
      "source": [
        "print('Number of days that a building has the maximum electricity consumption of all the buildings:\\n')\n",
        "print(daily_train_agg[daily_train_agg['meter'] == 'electricity']['building_id_max'].value_counts())"
      ],
      "execution_count": null,
      "outputs": []
    },
    {
      "cell_type": "code",
      "metadata": {
        "id": "LVvUGtb7Xaom",
        "colab_type": "code",
        "colab": {}
      },
      "source": [
        "daily_train_electricity = daily_train_agg[daily_train_agg['meter']=='electricity'].copy()\n",
        "daily_train_electricity['building_id_max'] = pd.Categorical(daily_train_electricity['building_id_max'])\n",
        "fig_daily_electricity = px.scatter(daily_train_electricity,\n",
        "                                   x='date',\n",
        "                                   y='meter_reading-max',\n",
        "                                   color='building_id_max',\n",
        "                                   render_mode='svg')\n",
        "fig_daily_electricity.update_layout(title='Maximum consumption values for the day and energy aspect')\n",
        "fig_daily_electricity.show()"
      ],
      "execution_count": null,
      "outputs": []
    },
    {
      "cell_type": "code",
      "metadata": {
        "id": "stXR0H0OXeGW",
        "colab_type": "code",
        "colab": {}
      },
      "source": [
        "print('Number of days that a building has the maximum chilledwater consumption of all the buildings:\\n')\n",
        "print(daily_train_agg[daily_train_agg['meter'] == 'chilledwater']['building_id_max'].value_counts())"
      ],
      "execution_count": null,
      "outputs": []
    },
    {
      "cell_type": "code",
      "metadata": {
        "id": "qaTLkQItXwsm",
        "colab_type": "code",
        "colab": {}
      },
      "source": [
        "daily_train_chilledwater = daily_train_agg[daily_train_agg['meter']=='chilledwater'].copy()\n",
        "daily_train_chilledwater['building_id_max'] = pd.Categorical(daily_train_chilledwater['building_id_max'])\n",
        "fig_daily_chilledwater = px.scatter(daily_train_chilledwater,\n",
        "                                    x='date',\n",
        "                                    y='meter_reading-max',  \n",
        "                                    color='building_id_max', \n",
        "                                    render_mode='svg')\n",
        "fig_daily_chilledwater.update_layout(title='Maximum consumption values for the day and energy aspect')\n",
        "fig_daily_chilledwater.show()"
      ],
      "execution_count": null,
      "outputs": []
    },
    {
      "cell_type": "code",
      "metadata": {
        "id": "NzpF4F0kX2uF",
        "colab_type": "code",
        "colab": {}
      },
      "source": [
        "print('Number of days that a building has the maximum steam consumption of all the buildings:\\n')\n",
        "print(daily_train_agg[daily_train_agg['meter'] == 'steam']['building_id_max'].value_counts())"
      ],
      "execution_count": null,
      "outputs": []
    },
    {
      "cell_type": "code",
      "metadata": {
        "id": "Tr0Pm8JwX3Bq",
        "colab_type": "code",
        "colab": {}
      },
      "source": [
        "daily_train_steam = daily_train_agg[daily_train_agg['meter']=='steam'].copy()\n",
        "daily_train_steam['building_id_max'] = pd.Categorical(daily_train_steam['building_id_max'])\n",
        "fig_daily_steam = px.scatter(daily_train_steam,\n",
        "                             x='date',\n",
        "                             y='meter_reading-max',\n",
        "                             color='building_id_max',\n",
        "                             render_mode='svg')\n",
        "fig_daily_steam.update_layout(title='Maximum consumption values for the day and energy aspect')\n",
        "fig_daily_steam.show()\n"
      ],
      "execution_count": null,
      "outputs": []
    },
    {
      "cell_type": "code",
      "metadata": {
        "id": "_j6fykvhX9Lq",
        "colab_type": "code",
        "colab": {}
      },
      "source": [
        "print('Number of days that a building has the maximum hotwater consumption of all the buildings:\\n')\n",
        "print(daily_train_agg[daily_train_agg['meter'] == 'hotwater']['building_id_max'].value_counts())"
      ],
      "execution_count": null,
      "outputs": []
    },
    {
      "cell_type": "code",
      "metadata": {
        "id": "pBC9KWozX9sa",
        "colab_type": "code",
        "colab": {}
      },
      "source": [
        "daily_train_hotwater = daily_train_agg[daily_train_agg['meter']=='hotwater'].copy()\n",
        "daily_train_hotwater['building_id_max'] = pd.Categorical(daily_train_hotwater['building_id_max'])\n",
        "fig_daily_hotwater = px.scatter(daily_train_hotwater,\n",
        "                                x='date',\n",
        "                                y='meter_reading-max',\n",
        "                                color='building_id_max',\n",
        "                                render_mode='svg')\n",
        "fig_daily_hotwater.update_layout(title='Maximum consumption values for the day and energy aspect')\n",
        "fig_daily_hotwater.show()\n"
      ],
      "execution_count": null,
      "outputs": []
    },
    {
      "cell_type": "code",
      "metadata": {
        "id": "mMMU8CEXYEL1",
        "colab_type": "code",
        "colab": {}
      },
      "source": [
        "from sklearn.preprocessing import LabelEncoder\n",
        "from sklearn import metrics"
      ],
      "execution_count": null,
      "outputs": []
    },
    {
      "cell_type": "code",
      "metadata": {
        "id": "hO51g_8GYEgM",
        "colab_type": "code",
        "colab": {}
      },
      "source": [
        "from sklearn.metrics import mean_squared_error\n",
        "import lightgbm as lgb\n",
        "from sklearn.model_selection import train_test_split"
      ],
      "execution_count": null,
      "outputs": []
    },
    {
      "cell_type": "code",
      "metadata": {
        "id": "cPHA6KoHYJdN",
        "colab_type": "code",
        "colab": {}
      },
      "source": [
        "train_df['timestamp'] = pd.to_datetime(train_df['timestamp'])\n",
        "test_df['timestamp'] = pd.to_datetime(test_df['timestamp'])\n",
        "weather_train_df['timestamp'] = pd.to_datetime(weather_train_df['timestamp'])\n",
        "weather_test_df['timestamp'] = pd.to_datetime(weather_test_df['timestamp'])\n",
        "    \n",
        "building_meta_df['primary_use'] = building_meta_df['primary_use'].astype('category')"
      ],
      "execution_count": null,
      "outputs": []
    },
    {
      "cell_type": "code",
      "metadata": {
        "id": "FTCulOjAYJ0y",
        "colab_type": "code",
        "colab": {}
      },
      "source": [
        "temp_df = train_df[['building_id']]\n",
        "temp_df = temp_df.merge(building_meta_df, on=['building_id'], how='left')\n",
        "del temp_df['building_id']\n",
        "train_df = pd.concat([train_df, temp_df], axis=1)\n",
        "\n",
        "temp_df = test_df[['building_id']]\n",
        "temp_df = temp_df.merge(building_meta_df, on=['building_id'], how='left')\n",
        "\n",
        "del temp_df['building_id']\n",
        "test_df = pd.concat([test_df, temp_df], axis=1)\n",
        "del temp_df, building_meta_df"
      ],
      "execution_count": null,
      "outputs": []
    },
    {
      "cell_type": "code",
      "metadata": {
        "id": "oZYqDsAmaUwX",
        "colab_type": "code",
        "colab": {}
      },
      "source": [
        "temp_df = train_df[['site_id','timestamp']]\n",
        "temp_df = temp_df.merge(weather_train_df, on=['site_id','timestamp'], how='left')\n",
        "\n",
        "del temp_df['site_id'], temp_df['timestamp']\n",
        "train_df = pd.concat([train_df, temp_df], axis=1)\n",
        "\n",
        "temp_df = test_df[['site_id','timestamp']]\n",
        "temp_df = temp_df.merge(weather_test_df, on=['site_id','timestamp'], how='left')\n",
        "\n",
        "del temp_df['site_id'], temp_df['timestamp']\n",
        "test_df = pd.concat([test_df, temp_df], axis=1)\n",
        "\n",
        "del temp_df, weather_train_df, weather_test_df"
      ],
      "execution_count": null,
      "outputs": []
    },
    {
      "cell_type": "code",
      "metadata": {
        "id": "fmfEYDtraVBF",
        "colab_type": "code",
        "colab": {}
      },
      "source": [
        "train_df.to_pickle('train_df.pkl')\n",
        "test_df.to_pickle('test_df.pkl')\n",
        "   \n",
        "del train_df, test_df\n",
        "gc.collect()"
      ],
      "execution_count": null,
      "outputs": []
    },
    {
      "cell_type": "code",
      "metadata": {
        "id": "MmOjylIWaaDd",
        "colab_type": "code",
        "colab": {}
      },
      "source": [
        "train_df = pd.read_pickle('train_df.pkl')\n",
        "test_df = pd.read_pickle('test_df.pkl')"
      ],
      "execution_count": null,
      "outputs": []
    },
    {
      "cell_type": "code",
      "metadata": {
        "id": "Q-4RTuVfatzP",
        "colab_type": "code",
        "colab": {}
      },
      "source": [
        "train_df['age'] = train_df['year_built'].max() - train_df['year_built'] + 1\n",
        "test_df['age'] = test_df['year_built'].max() - test_df['year_built'] + 1"
      ],
      "execution_count": null,
      "outputs": []
    },
    {
      "cell_type": "code",
      "metadata": {
        "id": "Nfz4xqVjauHR",
        "colab_type": "code",
        "colab": {}
      },
      "source": [
        "le = LabelEncoder()\n",
        "# train_df['primary_use'] = train_df['primary_use'].astype(str)\n",
        "train_df['primary_use'] = le.fit_transform(train_df['primary_use']).astype(np.int8)\n",
        "\n",
        "# test_df['primary_use'] = test_df['primary_use'].astype(str)\n",
        "test_df['primary_use'] = le.fit_transform(test_df['primary_use']).astype(np.int8)"
      ],
      "execution_count": null,
      "outputs": []
    },
    {
      "cell_type": "code",
      "metadata": {
        "id": "OzOk-bVCa2Lr",
        "colab_type": "code",
        "colab": {}
      },
      "source": [
        "train_df['floor_count'] = train_df['floor_count'].fillna(-999).astype(np.int16)\n",
        "test_df['floor_count'] = test_df['floor_count'].fillna(-999).astype(np.int16)\n",
        "\n",
        "train_df['year_built'] = train_df['year_built'].fillna(-999).astype(np.int16)\n",
        "test_df['year_built'] = test_df['year_built'].fillna(-999).astype(np.int16)\n",
        "\n",
        "train_df['age'] = train_df['age'].fillna(-999).astype(np.int16)\n",
        "test_df['age'] = test_df['age'].fillna(-999).astype(np.int16)\n",
        "\n",
        "train_df['cloud_coverage'] = train_df['cloud_coverage'].fillna(-999).astype(np.int16)\n",
        "test_df['cloud_coverage'] = test_df['cloud_coverage'].fillna(-999).astype(np.int16) "
      ],
      "execution_count": null,
      "outputs": []
    },
    {
      "cell_type": "code",
      "metadata": {
        "id": "jnjk7lONa2fm",
        "colab_type": "code",
        "colab": {}
      },
      "source": [
        "train_df['month_datetime'] = train_df['timestamp'].dt.month.astype(np.int8)\n",
        "train_df['weekofyear_datetime'] = train_df['timestamp'].dt.weekofyear.astype(np.int8)\n",
        "train_df['dayofyear_datetime'] = train_df['timestamp'].dt.dayofyear.astype(np.int16)\n",
        "    \n",
        "train_df['hour_datetime'] = train_df['timestamp'].dt.hour.astype(np.int8)  \n",
        "train_df['day_week'] = train_df['timestamp'].dt.dayofweek.astype(np.int8)\n",
        "train_df['day_month_datetime'] = train_df['timestamp'].dt.day.astype(np.int8)\n",
        "train_df['week_month_datetime'] = train_df['timestamp'].dt.day/7\n",
        "train_df['week_month_datetime'] = train_df['week_month_datetime'].apply(lambda x: math.ceil(x)).astype(np.int8)\n",
        "    \n",
        "train_df['year_built'] = train_df['year_built']-1900\n",
        "train_df['square_feet'] = np.log(train_df['square_feet'])\n",
        "    \n",
        "test_df['month_datetime'] = test_df['timestamp'].dt.month.astype(np.int8)\n",
        "test_df['weekofyear_datetime'] = test_df['timestamp'].dt.weekofyear.astype(np.int8)\n",
        "test_df['dayofyear_datetime'] = test_df['timestamp'].dt.dayofyear.astype(np.int16)\n",
        "    \n",
        "test_df['hour_datetime'] = test_df['timestamp'].dt.hour.astype(np.int8)\n",
        "test_df['day_week'] = test_df['timestamp'].dt.dayofweek.astype(np.int8)\n",
        "test_df['day_month_datetime'] = test_df['timestamp'].dt.day.astype(np.int8)\n",
        "test_df['week_month_datetime'] = test_df['timestamp'].dt.day/7\n",
        "test_df['week_month_datetime'] = test_df['week_month_datetime'].apply(lambda x: math.ceil(x)).astype(np.int8)\n",
        "    \n",
        "test_df['year_built'] = test_df['year_built']-1900\n",
        "test_df['square_feet'] = np.log(test_df['square_feet'])"
      ],
      "execution_count": null,
      "outputs": []
    }
  ]
}