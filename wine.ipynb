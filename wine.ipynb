{
  "nbformat": 4,
  "nbformat_minor": 0,
  "metadata": {
    "colab": {
      "name": "untitled.ipynb",
      "provenance": [],
      "collapsed_sections": []
    },
    "kernelspec": {
      "name": "python3",
      "display_name": "Python 3"
    }
  },
  "cells": [
    {
      "cell_type": "code",
      "metadata": {
        "id": "TrX9yieVQsOp",
        "colab_type": "code",
        "colab": {}
      },
      "source": [
        "\n",
        "import numpy as np\n",
        "import pandas as pd\n",
        "from sklearn.tree import DecisionTreeClassifier\n",
        "from sklearn.model_selection import train_test_split\n",
        "from sklearn.metrics import roc_curve,auc\n",
        "from sklearn import metrics\n",
        "import matplotlib.pyplot as plt\n",
        "from sklearn.linear_model import LogisticRegression\n",
        "from sklearn.neighbors import KNeighborsClassifier\n",
        "from sklearn.naive_bayes import GaussianNB\n",
        "from sklearn.ensemble import RandomForestClassifier\n",
        "from sklearn.model_selection import GridSearchCV\n",
        "from sklearn.ensemble import AdaBoostClassifier,GradientBoostingClassifier\n",
        "import warnings\n",
        "warnings.filterwarnings('ignore')"
      ],
      "execution_count": 58,
      "outputs": []
    },
    {
      "cell_type": "code",
      "metadata": {
        "id": "47kmZkrzSJWs",
        "colab_type": "code",
        "colab": {
          "base_uri": "https://localhost:8080/",
          "height": 50
        },
        "outputId": "c9e56036-358f-432b-8bf6-c0a91a7333c1"
      },
      "source": [
        "!unzip '/content/wine.zip'"
      ],
      "execution_count": 62,
      "outputs": [
        {
          "output_type": "stream",
          "text": [
            "Archive:  /content/wine.zip\n",
            "  inflating: wine.data               \n"
          ],
          "name": "stdout"
        }
      ]
    },
    {
      "cell_type": "code",
      "metadata": {
        "id": "BdXkGVkESOaL",
        "colab_type": "code",
        "colab": {
          "base_uri": "https://localhost:8080/",
          "height": 422
        },
        "outputId": "f1734251-36a0-4a81-e575-81ad8753c8e0"
      },
      "source": [
        "data= pd.read_csv('/content/wine.data',names=['cultivator','alcohol','malic_acid','ash',\n",
        "                                    'alcalinity','magnesium','total_phenols','falvanoids',\n",
        "                                    'nonflavanoid_phenols','proanthocyanins','color',\n",
        "                                    'hue','od280','proline'])\n",
        "data"
      ],
      "execution_count": 65,
      "outputs": [
        {
          "output_type": "execute_result",
          "data": {
            "text/html": [
              "<div>\n",
              "<style scoped>\n",
              "    .dataframe tbody tr th:only-of-type {\n",
              "        vertical-align: middle;\n",
              "    }\n",
              "\n",
              "    .dataframe tbody tr th {\n",
              "        vertical-align: top;\n",
              "    }\n",
              "\n",
              "    .dataframe thead th {\n",
              "        text-align: right;\n",
              "    }\n",
              "</style>\n",
              "<table border=\"1\" class=\"dataframe\">\n",
              "  <thead>\n",
              "    <tr style=\"text-align: right;\">\n",
              "      <th></th>\n",
              "      <th>cultivator</th>\n",
              "      <th>alcohol</th>\n",
              "      <th>malic_acid</th>\n",
              "      <th>ash</th>\n",
              "      <th>alcalinity</th>\n",
              "      <th>magnesium</th>\n",
              "      <th>total_phenols</th>\n",
              "      <th>falvanoids</th>\n",
              "      <th>nonflavanoid_phenols</th>\n",
              "      <th>proanthocyanins</th>\n",
              "      <th>color</th>\n",
              "      <th>hue</th>\n",
              "      <th>od280</th>\n",
              "      <th>proline</th>\n",
              "    </tr>\n",
              "  </thead>\n",
              "  <tbody>\n",
              "    <tr>\n",
              "      <th>0</th>\n",
              "      <td>1</td>\n",
              "      <td>14.23</td>\n",
              "      <td>1.71</td>\n",
              "      <td>2.43</td>\n",
              "      <td>15.6</td>\n",
              "      <td>127</td>\n",
              "      <td>2.80</td>\n",
              "      <td>3.06</td>\n",
              "      <td>0.28</td>\n",
              "      <td>2.29</td>\n",
              "      <td>5.64</td>\n",
              "      <td>1.04</td>\n",
              "      <td>3.92</td>\n",
              "      <td>1065</td>\n",
              "    </tr>\n",
              "    <tr>\n",
              "      <th>1</th>\n",
              "      <td>1</td>\n",
              "      <td>13.20</td>\n",
              "      <td>1.78</td>\n",
              "      <td>2.14</td>\n",
              "      <td>11.2</td>\n",
              "      <td>100</td>\n",
              "      <td>2.65</td>\n",
              "      <td>2.76</td>\n",
              "      <td>0.26</td>\n",
              "      <td>1.28</td>\n",
              "      <td>4.38</td>\n",
              "      <td>1.05</td>\n",
              "      <td>3.40</td>\n",
              "      <td>1050</td>\n",
              "    </tr>\n",
              "    <tr>\n",
              "      <th>2</th>\n",
              "      <td>1</td>\n",
              "      <td>13.16</td>\n",
              "      <td>2.36</td>\n",
              "      <td>2.67</td>\n",
              "      <td>18.6</td>\n",
              "      <td>101</td>\n",
              "      <td>2.80</td>\n",
              "      <td>3.24</td>\n",
              "      <td>0.30</td>\n",
              "      <td>2.81</td>\n",
              "      <td>5.68</td>\n",
              "      <td>1.03</td>\n",
              "      <td>3.17</td>\n",
              "      <td>1185</td>\n",
              "    </tr>\n",
              "    <tr>\n",
              "      <th>3</th>\n",
              "      <td>1</td>\n",
              "      <td>14.37</td>\n",
              "      <td>1.95</td>\n",
              "      <td>2.50</td>\n",
              "      <td>16.8</td>\n",
              "      <td>113</td>\n",
              "      <td>3.85</td>\n",
              "      <td>3.49</td>\n",
              "      <td>0.24</td>\n",
              "      <td>2.18</td>\n",
              "      <td>7.80</td>\n",
              "      <td>0.86</td>\n",
              "      <td>3.45</td>\n",
              "      <td>1480</td>\n",
              "    </tr>\n",
              "    <tr>\n",
              "      <th>4</th>\n",
              "      <td>1</td>\n",
              "      <td>13.24</td>\n",
              "      <td>2.59</td>\n",
              "      <td>2.87</td>\n",
              "      <td>21.0</td>\n",
              "      <td>118</td>\n",
              "      <td>2.80</td>\n",
              "      <td>2.69</td>\n",
              "      <td>0.39</td>\n",
              "      <td>1.82</td>\n",
              "      <td>4.32</td>\n",
              "      <td>1.04</td>\n",
              "      <td>2.93</td>\n",
              "      <td>735</td>\n",
              "    </tr>\n",
              "    <tr>\n",
              "      <th>...</th>\n",
              "      <td>...</td>\n",
              "      <td>...</td>\n",
              "      <td>...</td>\n",
              "      <td>...</td>\n",
              "      <td>...</td>\n",
              "      <td>...</td>\n",
              "      <td>...</td>\n",
              "      <td>...</td>\n",
              "      <td>...</td>\n",
              "      <td>...</td>\n",
              "      <td>...</td>\n",
              "      <td>...</td>\n",
              "      <td>...</td>\n",
              "      <td>...</td>\n",
              "    </tr>\n",
              "    <tr>\n",
              "      <th>173</th>\n",
              "      <td>3</td>\n",
              "      <td>13.71</td>\n",
              "      <td>5.65</td>\n",
              "      <td>2.45</td>\n",
              "      <td>20.5</td>\n",
              "      <td>95</td>\n",
              "      <td>1.68</td>\n",
              "      <td>0.61</td>\n",
              "      <td>0.52</td>\n",
              "      <td>1.06</td>\n",
              "      <td>7.70</td>\n",
              "      <td>0.64</td>\n",
              "      <td>1.74</td>\n",
              "      <td>740</td>\n",
              "    </tr>\n",
              "    <tr>\n",
              "      <th>174</th>\n",
              "      <td>3</td>\n",
              "      <td>13.40</td>\n",
              "      <td>3.91</td>\n",
              "      <td>2.48</td>\n",
              "      <td>23.0</td>\n",
              "      <td>102</td>\n",
              "      <td>1.80</td>\n",
              "      <td>0.75</td>\n",
              "      <td>0.43</td>\n",
              "      <td>1.41</td>\n",
              "      <td>7.30</td>\n",
              "      <td>0.70</td>\n",
              "      <td>1.56</td>\n",
              "      <td>750</td>\n",
              "    </tr>\n",
              "    <tr>\n",
              "      <th>175</th>\n",
              "      <td>3</td>\n",
              "      <td>13.27</td>\n",
              "      <td>4.28</td>\n",
              "      <td>2.26</td>\n",
              "      <td>20.0</td>\n",
              "      <td>120</td>\n",
              "      <td>1.59</td>\n",
              "      <td>0.69</td>\n",
              "      <td>0.43</td>\n",
              "      <td>1.35</td>\n",
              "      <td>10.20</td>\n",
              "      <td>0.59</td>\n",
              "      <td>1.56</td>\n",
              "      <td>835</td>\n",
              "    </tr>\n",
              "    <tr>\n",
              "      <th>176</th>\n",
              "      <td>3</td>\n",
              "      <td>13.17</td>\n",
              "      <td>2.59</td>\n",
              "      <td>2.37</td>\n",
              "      <td>20.0</td>\n",
              "      <td>120</td>\n",
              "      <td>1.65</td>\n",
              "      <td>0.68</td>\n",
              "      <td>0.53</td>\n",
              "      <td>1.46</td>\n",
              "      <td>9.30</td>\n",
              "      <td>0.60</td>\n",
              "      <td>1.62</td>\n",
              "      <td>840</td>\n",
              "    </tr>\n",
              "    <tr>\n",
              "      <th>177</th>\n",
              "      <td>3</td>\n",
              "      <td>14.13</td>\n",
              "      <td>4.10</td>\n",
              "      <td>2.74</td>\n",
              "      <td>24.5</td>\n",
              "      <td>96</td>\n",
              "      <td>2.05</td>\n",
              "      <td>0.76</td>\n",
              "      <td>0.56</td>\n",
              "      <td>1.35</td>\n",
              "      <td>9.20</td>\n",
              "      <td>0.61</td>\n",
              "      <td>1.60</td>\n",
              "      <td>560</td>\n",
              "    </tr>\n",
              "  </tbody>\n",
              "</table>\n",
              "<p>178 rows × 14 columns</p>\n",
              "</div>"
            ],
            "text/plain": [
              "     cultivator  alcohol  malic_acid   ash  ...  color   hue  od280  proline\n",
              "0             1    14.23        1.71  2.43  ...   5.64  1.04   3.92     1065\n",
              "1             1    13.20        1.78  2.14  ...   4.38  1.05   3.40     1050\n",
              "2             1    13.16        2.36  2.67  ...   5.68  1.03   3.17     1185\n",
              "3             1    14.37        1.95  2.50  ...   7.80  0.86   3.45     1480\n",
              "4             1    13.24        2.59  2.87  ...   4.32  1.04   2.93      735\n",
              "..          ...      ...         ...   ...  ...    ...   ...    ...      ...\n",
              "173           3    13.71        5.65  2.45  ...   7.70  0.64   1.74      740\n",
              "174           3    13.40        3.91  2.48  ...   7.30  0.70   1.56      750\n",
              "175           3    13.27        4.28  2.26  ...  10.20  0.59   1.56      835\n",
              "176           3    13.17        2.59  2.37  ...   9.30  0.60   1.62      840\n",
              "177           3    14.13        4.10  2.74  ...   9.20  0.61   1.60      560\n",
              "\n",
              "[178 rows x 14 columns]"
            ]
          },
          "metadata": {
            "tags": []
          },
          "execution_count": 65
        }
      ]
    },
    {
      "cell_type": "code",
      "metadata": {
        "id": "e-nJK30hTOXE",
        "colab_type": "code",
        "colab": {}
      },
      "source": [
        "x = data.drop('cultivator',axis=1)\n",
        "y = data.cultivator"
      ],
      "execution_count": 66,
      "outputs": []
    },
    {
      "cell_type": "code",
      "metadata": {
        "id": "Ie0SvpdhTW0E",
        "colab_type": "code",
        "colab": {}
      },
      "source": [
        "xtrain,xtest,ytrain,ytest = train_test_split(x,y,test_size =0.30,random_state=0)"
      ],
      "execution_count": 67,
      "outputs": []
    },
    {
      "cell_type": "code",
      "metadata": {
        "id": "HDaXr-jFTYBU",
        "colab_type": "code",
        "colab": {}
      },
      "source": [
        "LR = LogisticRegression(solver='liblinear')"
      ],
      "execution_count": 69,
      "outputs": []
    },
    {
      "cell_type": "code",
      "metadata": {
        "id": "J5G2N9ZPTcX-",
        "colab_type": "code",
        "colab": {
          "base_uri": "https://localhost:8080/",
          "height": 101
        },
        "outputId": "f35f8201-4b1a-4669-85b6-e87e8c65fb7b"
      },
      "source": [
        "\n",
        "LR.fit(xtrain,ytrain)"
      ],
      "execution_count": 70,
      "outputs": [
        {
          "output_type": "execute_result",
          "data": {
            "text/plain": [
              "LogisticRegression(C=1.0, class_weight=None, dual=False, fit_intercept=True,\n",
              "                   intercept_scaling=1, l1_ratio=None, max_iter=100,\n",
              "                   multi_class='auto', n_jobs=None, penalty='l2',\n",
              "                   random_state=None, solver='liblinear', tol=0.0001, verbose=0,\n",
              "                   warm_start=False)"
            ]
          },
          "metadata": {
            "tags": []
          },
          "execution_count": 70
        }
      ]
    },
    {
      "cell_type": "code",
      "metadata": {
        "id": "zyKuATbUThVC",
        "colab_type": "code",
        "colab": {
          "base_uri": "https://localhost:8080/",
          "height": 34
        },
        "outputId": "cfb3a19a-d52c-4d94-84a3-8ff77f0ced56"
      },
      "source": [
        "metrics.accuracy_score(ytest,LR.predict(xtest))"
      ],
      "execution_count": 71,
      "outputs": [
        {
          "output_type": "execute_result",
          "data": {
            "text/plain": [
              "0.9444444444444444"
            ]
          },
          "metadata": {
            "tags": []
          },
          "execution_count": 71
        }
      ]
    },
    {
      "cell_type": "code",
      "metadata": {
        "id": "Hc39IjwBTmwj",
        "colab_type": "code",
        "colab": {
          "base_uri": "https://localhost:8080/",
          "height": 67
        },
        "outputId": "5a34643a-41ab-4c44-a2ec-8595a33b2f95"
      },
      "source": [
        "cm_LR = metrics.confusion_matrix(ytest,LR.predict(xtest))\n",
        "cm_LR"
      ],
      "execution_count": 72,
      "outputs": [
        {
          "output_type": "execute_result",
          "data": {
            "text/plain": [
              "array([[18,  1,  0],\n",
              "       [ 1, 20,  1],\n",
              "       [ 0,  0, 13]])"
            ]
          },
          "metadata": {
            "tags": []
          },
          "execution_count": 72
        }
      ]
    },
    {
      "cell_type": "code",
      "metadata": {
        "id": "Hosp-HbWTqKT",
        "colab_type": "code",
        "colab": {
          "base_uri": "https://localhost:8080/",
          "height": 185
        },
        "outputId": "be51da35-1d87-40ac-eb51-aacf7356378e"
      },
      "source": [
        "print(metrics.classification_report(ytest,LR.predict(xtest)))"
      ],
      "execution_count": 73,
      "outputs": [
        {
          "output_type": "stream",
          "text": [
            "              precision    recall  f1-score   support\n",
            "\n",
            "           1       0.95      0.95      0.95        19\n",
            "           2       0.95      0.91      0.93        22\n",
            "           3       0.93      1.00      0.96        13\n",
            "\n",
            "    accuracy                           0.94        54\n",
            "   macro avg       0.94      0.95      0.95        54\n",
            "weighted avg       0.94      0.94      0.94        54\n",
            "\n"
          ],
          "name": "stdout"
        }
      ]
    },
    {
      "cell_type": "code",
      "metadata": {
        "id": "bNwzBOT_Ts75",
        "colab_type": "code",
        "colab": {}
      },
      "source": [
        "knn = KNeighborsClassifier()"
      ],
      "execution_count": 74,
      "outputs": []
    },
    {
      "cell_type": "code",
      "metadata": {
        "id": "Fsbd0RDDTw6B",
        "colab_type": "code",
        "colab": {
          "base_uri": "https://localhost:8080/",
          "height": 202
        },
        "outputId": "831a8520-a977-4b80-e584-378c7d7b0ab7"
      },
      "source": [
        "\n",
        "parameter = {'n_neighbors':np.arange(1,15),'weights':['uniform','distance']}\n",
        "GS=GridSearchCV(knn,parameter,cv=5)\n",
        "GS.fit(x,y)"
      ],
      "execution_count": 75,
      "outputs": [
        {
          "output_type": "execute_result",
          "data": {
            "text/plain": [
              "GridSearchCV(cv=5, error_score=nan,\n",
              "             estimator=KNeighborsClassifier(algorithm='auto', leaf_size=30,\n",
              "                                            metric='minkowski',\n",
              "                                            metric_params=None, n_jobs=None,\n",
              "                                            n_neighbors=5, p=2,\n",
              "                                            weights='uniform'),\n",
              "             iid='deprecated', n_jobs=None,\n",
              "             param_grid={'n_neighbors': array([ 1,  2,  3,  4,  5,  6,  7,  8,  9, 10, 11, 12, 13, 14]),\n",
              "                         'weights': ['uniform', 'distance']},\n",
              "             pre_dispatch='2*n_jobs', refit=True, return_train_score=False,\n",
              "             scoring=None, verbose=0)"
            ]
          },
          "metadata": {
            "tags": []
          },
          "execution_count": 75
        }
      ]
    },
    {
      "cell_type": "code",
      "metadata": {
        "id": "EnuDOmQmT0mS",
        "colab_type": "code",
        "colab": {
          "base_uri": "https://localhost:8080/",
          "height": 34
        },
        "outputId": "e9243090-9fae-4c4e-a909-a91e3a954553"
      },
      "source": [
        "GS.best_params_"
      ],
      "execution_count": 76,
      "outputs": [
        {
          "output_type": "execute_result",
          "data": {
            "text/plain": [
              "{'n_neighbors': 1, 'weights': 'uniform'}"
            ]
          },
          "metadata": {
            "tags": []
          },
          "execution_count": 76
        }
      ]
    },
    {
      "cell_type": "code",
      "metadata": {
        "id": "w1ZW_e-9T1_e",
        "colab_type": "code",
        "colab": {}
      },
      "source": [
        "knn = KNeighborsClassifier(n_neighbors=1,weights='uniform',metric='euclidean')"
      ],
      "execution_count": 77,
      "outputs": []
    },
    {
      "cell_type": "code",
      "metadata": {
        "id": "1Vu-0R0eT6u8",
        "colab_type": "code",
        "colab": {
          "base_uri": "https://localhost:8080/",
          "height": 67
        },
        "outputId": "669f0ca6-11b1-499a-e6b1-141f2e166ee1"
      },
      "source": [
        "knn.fit(xtrain,ytrain)"
      ],
      "execution_count": 78,
      "outputs": [
        {
          "output_type": "execute_result",
          "data": {
            "text/plain": [
              "KNeighborsClassifier(algorithm='auto', leaf_size=30, metric='euclidean',\n",
              "                     metric_params=None, n_jobs=None, n_neighbors=1, p=2,\n",
              "                     weights='uniform')"
            ]
          },
          "metadata": {
            "tags": []
          },
          "execution_count": 78
        }
      ]
    },
    {
      "cell_type": "code",
      "metadata": {
        "id": "7OkhwTMTT9ja",
        "colab_type": "code",
        "colab": {
          "base_uri": "https://localhost:8080/",
          "height": 34
        },
        "outputId": "a4e26260-09ba-4e1d-f6bd-090745ec30e1"
      },
      "source": [
        "metrics.accuracy_score(ytest,knn.predict(xtest))"
      ],
      "execution_count": 79,
      "outputs": [
        {
          "output_type": "execute_result",
          "data": {
            "text/plain": [
              "0.7592592592592593"
            ]
          },
          "metadata": {
            "tags": []
          },
          "execution_count": 79
        }
      ]
    },
    {
      "cell_type": "code",
      "metadata": {
        "id": "ju8S8lowUAHV",
        "colab_type": "code",
        "colab": {}
      },
      "source": [
        "cm_knn = metrics.confusion_matrix(ytest,knn.predict(xtest))"
      ],
      "execution_count": 80,
      "outputs": []
    },
    {
      "cell_type": "code",
      "metadata": {
        "id": "J3K9VS79UCea",
        "colab_type": "code",
        "colab": {
          "base_uri": "https://localhost:8080/",
          "height": 185
        },
        "outputId": "49108f56-d942-4ed2-e420-7ce7bcdce3b8"
      },
      "source": [
        "print(metrics.classification_report(ytest,knn.predict(xtest)))"
      ],
      "execution_count": 81,
      "outputs": [
        {
          "output_type": "stream",
          "text": [
            "              precision    recall  f1-score   support\n",
            "\n",
            "           1       0.89      0.84      0.86        19\n",
            "           2       0.75      0.82      0.78        22\n",
            "           3       0.58      0.54      0.56        13\n",
            "\n",
            "    accuracy                           0.76        54\n",
            "   macro avg       0.74      0.73      0.74        54\n",
            "weighted avg       0.76      0.76      0.76        54\n",
            "\n"
          ],
          "name": "stdout"
        }
      ]
    },
    {
      "cell_type": "code",
      "metadata": {
        "id": "p8jVwh6VUFyM",
        "colab_type": "code",
        "colab": {}
      },
      "source": [
        "gnb = GaussianNB()"
      ],
      "execution_count": 82,
      "outputs": []
    },
    {
      "cell_type": "code",
      "metadata": {
        "id": "RPMm6iTYUGgq",
        "colab_type": "code",
        "colab": {
          "base_uri": "https://localhost:8080/",
          "height": 34
        },
        "outputId": "f215be4b-5f70-42ad-b698-8f75a8571515"
      },
      "source": [
        "gnb.fit(xtrain,ytrain)"
      ],
      "execution_count": 83,
      "outputs": [
        {
          "output_type": "execute_result",
          "data": {
            "text/plain": [
              "GaussianNB(priors=None, var_smoothing=1e-09)"
            ]
          },
          "metadata": {
            "tags": []
          },
          "execution_count": 83
        }
      ]
    },
    {
      "cell_type": "code",
      "metadata": {
        "id": "StreuZcGUKiX",
        "colab_type": "code",
        "colab": {
          "base_uri": "https://localhost:8080/",
          "height": 34
        },
        "outputId": "e3d41db5-dd86-4c3d-fe12-4bf502fa5f0a"
      },
      "source": [
        "metrics.accuracy_score(ytest,gnb.predict(xtest))"
      ],
      "execution_count": 84,
      "outputs": [
        {
          "output_type": "execute_result",
          "data": {
            "text/plain": [
              "0.9444444444444444"
            ]
          },
          "metadata": {
            "tags": []
          },
          "execution_count": 84
        }
      ]
    },
    {
      "cell_type": "code",
      "metadata": {
        "id": "a7j9dgcsUNMy",
        "colab_type": "code",
        "colab": {}
      },
      "source": [
        "cm_nb = metrics.confusion_matrix(ytest,gnb.predict(xtest))"
      ],
      "execution_count": 85,
      "outputs": []
    },
    {
      "cell_type": "code",
      "metadata": {
        "id": "moIbqNiTUPpq",
        "colab_type": "code",
        "colab": {
          "base_uri": "https://localhost:8080/",
          "height": 185
        },
        "outputId": "6a73d6a6-7e70-42a9-a73f-e2017e43b3b4"
      },
      "source": [
        "print(metrics.classification_report(ytest,gnb.predict(xtest)))"
      ],
      "execution_count": 86,
      "outputs": [
        {
          "output_type": "stream",
          "text": [
            "              precision    recall  f1-score   support\n",
            "\n",
            "           1       0.90      1.00      0.95        19\n",
            "           2       1.00      0.86      0.93        22\n",
            "           3       0.93      1.00      0.96        13\n",
            "\n",
            "    accuracy                           0.94        54\n",
            "   macro avg       0.94      0.95      0.95        54\n",
            "weighted avg       0.95      0.94      0.94        54\n",
            "\n"
          ],
          "name": "stdout"
        }
      ]
    },
    {
      "cell_type": "code",
      "metadata": {
        "id": "pLKsq72vURxM",
        "colab_type": "code",
        "colab": {}
      },
      "source": [
        "\n",
        "dt = DecisionTreeClassifier()"
      ],
      "execution_count": 87,
      "outputs": []
    },
    {
      "cell_type": "code",
      "metadata": {
        "id": "RT6nRLLHUSIl",
        "colab_type": "code",
        "colab": {
          "base_uri": "https://localhost:8080/",
          "height": 319
        },
        "outputId": "2f23a8bc-9a17-4a4e-843a-928f953bd266"
      },
      "source": [
        "parameter ={'max_depth':np.arange(1,10),'criterion':['entropy','gini']}\n",
        "GS=GridSearchCV(dt,parameter,cv=3)\n",
        "GS.fit(x,y)"
      ],
      "execution_count": 88,
      "outputs": [
        {
          "output_type": "execute_result",
          "data": {
            "text/plain": [
              "GridSearchCV(cv=3, error_score=nan,\n",
              "             estimator=DecisionTreeClassifier(ccp_alpha=0.0, class_weight=None,\n",
              "                                              criterion='gini', max_depth=None,\n",
              "                                              max_features=None,\n",
              "                                              max_leaf_nodes=None,\n",
              "                                              min_impurity_decrease=0.0,\n",
              "                                              min_impurity_split=None,\n",
              "                                              min_samples_leaf=1,\n",
              "                                              min_samples_split=2,\n",
              "                                              min_weight_fraction_leaf=0.0,\n",
              "                                              presort='deprecated',\n",
              "                                              random_state=None,\n",
              "                                              splitter='best'),\n",
              "             iid='deprecated', n_jobs=None,\n",
              "             param_grid={'criterion': ['entropy', 'gini'],\n",
              "                         'max_depth': array([1, 2, 3, 4, 5, 6, 7, 8, 9])},\n",
              "             pre_dispatch='2*n_jobs', refit=True, return_train_score=False,\n",
              "             scoring=None, verbose=0)"
            ]
          },
          "metadata": {
            "tags": []
          },
          "execution_count": 88
        }
      ]
    },
    {
      "cell_type": "code",
      "metadata": {
        "id": "_r_pICCuUUcy",
        "colab_type": "code",
        "colab": {
          "base_uri": "https://localhost:8080/",
          "height": 34
        },
        "outputId": "be016cb1-0a5b-440d-b008-a812a093bd7a"
      },
      "source": [
        "GS.best_params_"
      ],
      "execution_count": 89,
      "outputs": [
        {
          "output_type": "execute_result",
          "data": {
            "text/plain": [
              "{'criterion': 'entropy', 'max_depth': 7}"
            ]
          },
          "metadata": {
            "tags": []
          },
          "execution_count": 89
        }
      ]
    },
    {
      "cell_type": "code",
      "metadata": {
        "id": "-qNc_hYXUXF-",
        "colab_type": "code",
        "colab": {}
      },
      "source": [
        "dt = DecisionTreeClassifier(criterion='gini',max_depth=4)"
      ],
      "execution_count": 90,
      "outputs": []
    },
    {
      "cell_type": "code",
      "metadata": {
        "id": "gM9OXdAGUZTq",
        "colab_type": "code",
        "colab": {
          "base_uri": "https://localhost:8080/",
          "height": 118
        },
        "outputId": "a9edb3fa-99a6-41f5-d7ba-6cdca8207e85"
      },
      "source": [
        "dt.fit(xtrain,ytrain)"
      ],
      "execution_count": 91,
      "outputs": [
        {
          "output_type": "execute_result",
          "data": {
            "text/plain": [
              "DecisionTreeClassifier(ccp_alpha=0.0, class_weight=None, criterion='gini',\n",
              "                       max_depth=4, max_features=None, max_leaf_nodes=None,\n",
              "                       min_impurity_decrease=0.0, min_impurity_split=None,\n",
              "                       min_samples_leaf=1, min_samples_split=2,\n",
              "                       min_weight_fraction_leaf=0.0, presort='deprecated',\n",
              "                       random_state=None, splitter='best')"
            ]
          },
          "metadata": {
            "tags": []
          },
          "execution_count": 91
        }
      ]
    },
    {
      "cell_type": "code",
      "metadata": {
        "id": "SDEiv-xQUbgX",
        "colab_type": "code",
        "colab": {
          "base_uri": "https://localhost:8080/",
          "height": 34
        },
        "outputId": "7a4b1ec1-5628-4f7e-dcd3-f021049cf9af"
      },
      "source": [
        "metrics.accuracy_score(ytest,dt.predict(xtest))"
      ],
      "execution_count": 92,
      "outputs": [
        {
          "output_type": "execute_result",
          "data": {
            "text/plain": [
              "0.9444444444444444"
            ]
          },
          "metadata": {
            "tags": []
          },
          "execution_count": 92
        }
      ]
    },
    {
      "cell_type": "code",
      "metadata": {
        "id": "d7fx1gPEUdvt",
        "colab_type": "code",
        "colab": {}
      },
      "source": [
        "cm_dt=metrics.confusion_matrix(ytest,dt.predict(xtest))"
      ],
      "execution_count": 93,
      "outputs": []
    },
    {
      "cell_type": "code",
      "metadata": {
        "id": "StPUOEaWUf_g",
        "colab_type": "code",
        "colab": {
          "base_uri": "https://localhost:8080/",
          "height": 185
        },
        "outputId": "a30e3c74-b7fa-4baf-c937-39314ce4b2f2"
      },
      "source": [
        "print(metrics.classification_report(ytest,dt.predict(xtest)))"
      ],
      "execution_count": 94,
      "outputs": [
        {
          "output_type": "stream",
          "text": [
            "              precision    recall  f1-score   support\n",
            "\n",
            "           1       1.00      0.89      0.94        19\n",
            "           2       0.91      0.95      0.93        22\n",
            "           3       0.93      1.00      0.96        13\n",
            "\n",
            "    accuracy                           0.94        54\n",
            "   macro avg       0.95      0.95      0.95        54\n",
            "weighted avg       0.95      0.94      0.94        54\n",
            "\n"
          ],
          "name": "stdout"
        }
      ]
    },
    {
      "cell_type": "code",
      "metadata": {
        "id": "5OzeEDvTUiU9",
        "colab_type": "code",
        "colab": {}
      },
      "source": [
        "\n",
        "rt = RandomForestClassifier(random_state=0)"
      ],
      "execution_count": 95,
      "outputs": []
    },
    {
      "cell_type": "code",
      "metadata": {
        "id": "YB8hM_SWUnoO",
        "colab_type": "code",
        "colab": {
          "base_uri": "https://localhost:8080/",
          "height": 370
        },
        "outputId": "5635ea18-4af9-4b39-b7f2-7abab9336ab5"
      },
      "source": [
        "\n",
        "parameter ={'n_estimators':np.arange(1,10),'max_depth':np.arange(1,10),'criterion':['gini','entropy']}\n",
        "GS=GridSearchCV(rt,parameter,cv=3)\n",
        "GS.fit(x,y)"
      ],
      "execution_count": 96,
      "outputs": [
        {
          "output_type": "execute_result",
          "data": {
            "text/plain": [
              "GridSearchCV(cv=3, error_score=nan,\n",
              "             estimator=RandomForestClassifier(bootstrap=True, ccp_alpha=0.0,\n",
              "                                              class_weight=None,\n",
              "                                              criterion='gini', max_depth=None,\n",
              "                                              max_features='auto',\n",
              "                                              max_leaf_nodes=None,\n",
              "                                              max_samples=None,\n",
              "                                              min_impurity_decrease=0.0,\n",
              "                                              min_impurity_split=None,\n",
              "                                              min_samples_leaf=1,\n",
              "                                              min_samples_split=2,\n",
              "                                              min_weight_fraction_leaf=0.0,\n",
              "                                              n_estimators=100, n_jobs=None,\n",
              "                                              oob_score=False, random_state=0,\n",
              "                                              verbose=0, warm_start=False),\n",
              "             iid='deprecated', n_jobs=None,\n",
              "             param_grid={'criterion': ['gini', 'entropy'],\n",
              "                         'max_depth': array([1, 2, 3, 4, 5, 6, 7, 8, 9]),\n",
              "                         'n_estimators': array([1, 2, 3, 4, 5, 6, 7, 8, 9])},\n",
              "             pre_dispatch='2*n_jobs', refit=True, return_train_score=False,\n",
              "             scoring=None, verbose=0)"
            ]
          },
          "metadata": {
            "tags": []
          },
          "execution_count": 96
        }
      ]
    },
    {
      "cell_type": "code",
      "metadata": {
        "id": "Xu6z2G3QUn9n",
        "colab_type": "code",
        "colab": {
          "base_uri": "https://localhost:8080/",
          "height": 34
        },
        "outputId": "7300f809-452b-4b7a-ea2f-ececcc8ddc6d"
      },
      "source": [
        "GS.best_params_"
      ],
      "execution_count": 97,
      "outputs": [
        {
          "output_type": "execute_result",
          "data": {
            "text/plain": [
              "{'criterion': 'entropy', 'max_depth': 5, 'n_estimators': 8}"
            ]
          },
          "metadata": {
            "tags": []
          },
          "execution_count": 97
        }
      ]
    },
    {
      "cell_type": "code",
      "metadata": {
        "id": "fl9AXWeZUr_E",
        "colab_type": "code",
        "colab": {}
      },
      "source": [
        "rf = RandomForestClassifier(n_estimators=8,criterion='entropy',max_depth=5,random_state=0)"
      ],
      "execution_count": 98,
      "outputs": []
    },
    {
      "cell_type": "code",
      "metadata": {
        "id": "qaP8Hod7UuC1",
        "colab_type": "code",
        "colab": {
          "base_uri": "https://localhost:8080/",
          "height": 151
        },
        "outputId": "ddf3f52a-415d-4aeb-bfc5-807b770130e4"
      },
      "source": [
        "rf.fit(xtrain,ytrain)"
      ],
      "execution_count": 99,
      "outputs": [
        {
          "output_type": "execute_result",
          "data": {
            "text/plain": [
              "RandomForestClassifier(bootstrap=True, ccp_alpha=0.0, class_weight=None,\n",
              "                       criterion='entropy', max_depth=5, max_features='auto',\n",
              "                       max_leaf_nodes=None, max_samples=None,\n",
              "                       min_impurity_decrease=0.0, min_impurity_split=None,\n",
              "                       min_samples_leaf=1, min_samples_split=2,\n",
              "                       min_weight_fraction_leaf=0.0, n_estimators=8,\n",
              "                       n_jobs=None, oob_score=False, random_state=0, verbose=0,\n",
              "                       warm_start=False)"
            ]
          },
          "metadata": {
            "tags": []
          },
          "execution_count": 99
        }
      ]
    },
    {
      "cell_type": "code",
      "metadata": {
        "id": "ZfSTpnqWUv_o",
        "colab_type": "code",
        "colab": {}
      },
      "source": [
        "cm_rf = metrics.confusion_matrix(ytest,rf.predict(xtest))"
      ],
      "execution_count": 100,
      "outputs": []
    },
    {
      "cell_type": "code",
      "metadata": {
        "id": "gPayi7zWUyM3",
        "colab_type": "code",
        "colab": {
          "base_uri": "https://localhost:8080/",
          "height": 185
        },
        "outputId": "8b5d73d0-e431-43e3-f04c-5f1aa934d5cb"
      },
      "source": [
        "\n",
        "print(metrics.classification_report(ytest,rf.predict(xtest)))"
      ],
      "execution_count": 101,
      "outputs": [
        {
          "output_type": "stream",
          "text": [
            "              precision    recall  f1-score   support\n",
            "\n",
            "           1       1.00      1.00      1.00        19\n",
            "           2       1.00      1.00      1.00        22\n",
            "           3       1.00      1.00      1.00        13\n",
            "\n",
            "    accuracy                           1.00        54\n",
            "   macro avg       1.00      1.00      1.00        54\n",
            "weighted avg       1.00      1.00      1.00        54\n",
            "\n"
          ],
          "name": "stdout"
        }
      ]
    },
    {
      "cell_type": "code",
      "metadata": {
        "id": "jRFECtB8U0Sp",
        "colab_type": "code",
        "colab": {}
      },
      "source": [
        "bt_LR = AdaBoostClassifier(base_estimator=LR,n_estimators=50,random_state=0)"
      ],
      "execution_count": 103,
      "outputs": []
    },
    {
      "cell_type": "code",
      "metadata": {
        "id": "tt7dthirXJfj",
        "colab_type": "code",
        "colab": {}
      },
      "source": [
        "bt_gnb = AdaBoostClassifier(base_estimator=gnb,n_estimators=50,random_state=0)"
      ],
      "execution_count": 104,
      "outputs": []
    },
    {
      "cell_type": "code",
      "metadata": {
        "id": "w2zHZQRoXNfq",
        "colab_type": "code",
        "colab": {}
      },
      "source": [
        "bt_dt = AdaBoostClassifier(base_estimator=dt,n_estimators=50,random_state=0)"
      ],
      "execution_count": 105,
      "outputs": []
    },
    {
      "cell_type": "code",
      "metadata": {
        "id": "e_MD3ompXPp5",
        "colab_type": "code",
        "colab": {}
      },
      "source": [
        "bt_rt = AdaBoostClassifier(base_estimator=rt,n_estimators=50,random_state=0)"
      ],
      "execution_count": 106,
      "outputs": []
    },
    {
      "cell_type": "code",
      "metadata": {
        "id": "OVVDP6LvXT0M",
        "colab_type": "code",
        "colab": {}
      },
      "source": [
        "models = []\n",
        "models.append(('Base LR',LR))\n",
        "models.append(('Boost LR',bt_LR))\n",
        "models.append(('Base KNN',knn))\n",
        "models.append(('Base gnb',gnb))\n",
        "models.append(('Boost gnb',bt_gnb))\n",
        "models.append(('Base dt',dt))\n",
        "models.append(('Boost dt',bt_dt))\n",
        "models.append(('Base RT',rt))\n",
        "models.append(('Boost RT',bt_rt))"
      ],
      "execution_count": 107,
      "outputs": []
    },
    {
      "cell_type": "code",
      "metadata": {
        "id": "EGWwGF1RXUHr",
        "colab_type": "code",
        "colab": {
          "base_uri": "https://localhost:8080/",
          "height": 168
        },
        "outputId": "ab517b8c-a8dd-430d-e87e-f065885e5d72"
      },
      "source": [
        "\n",
        "from sklearn.model_selection import KFold\n",
        "kf = KFold(n_splits=3,shuffle=True,random_state=2)\n",
        "for model,name in zip([LR,bt_LR,knn,gnb,bt_gnb,dt,bt_dt,rt,bt_rt],\n",
        "                      ['Base LR','Boost LR','KNN','gnb','boost_gnb','dt','boost_dt','Base RT','Boost RT']):\n",
        "    k=0\n",
        "    recall=np.zeros((3,3))\n",
        "    prec  =np.zeros((3,3))\n",
        "    fscore=np.zeros((3,3))\n",
        "    for train,test in kf.split(x,y):\n",
        "        xtrain,xtest=x.iloc[train,:],x.iloc[test,:]\n",
        "        ytrain,ytest=y[train],y[test]\n",
        "        model.fit(xtrain,ytrain)\n",
        "        y_predict = model.predict(xtest)\n",
        "        cm=metrics.confusion_matrix(ytest,y_predict)\n",
        "        for i in np.arange(0,3):\n",
        "            recall[i,k]=cm[i,i]/cm[i,:].sum()\n",
        "            prec[i,k]=cm[i,i]/cm[:,i].sum()\n",
        "        k=k+1\n",
        "    for row in np.arange(0,3):\n",
        "        for col in np.arange(0,3):\n",
        "            fscore[row,col]=2*(recall[row,col]*prec[row,col])/(recall[row,col]+prec[row,col])\n",
        "    mean =(np.mean(fscore[0,:])+np.mean(fscore[1,:])+np.mean(fscore[2,:]))/3\n",
        "    var  =((np.var(fscore[0,:],ddof=1)+np.var(fscore[1,:],ddof=1)+np.var(fscore[2,:],ddof=1))/3)\n",
        "    print('f1_weighted Score: %0.02f (+/- %0.5f) [%s]' %(mean,var,name))"
      ],
      "execution_count": 108,
      "outputs": [
        {
          "output_type": "stream",
          "text": [
            "f1_weighted Score: 0.95 (+/- 0.00033) [Base LR]\n",
            "f1_weighted Score: 0.92 (+/- 0.00149) [Boost LR]\n",
            "f1_weighted Score: 0.72 (+/- 0.00096) [KNN]\n",
            "f1_weighted Score: 0.97 (+/- 0.00112) [gnb]\n",
            "f1_weighted Score: 0.97 (+/- 0.00019) [boost_gnb]\n",
            "f1_weighted Score: 0.88 (+/- 0.00228) [dt]\n",
            "f1_weighted Score: 0.86 (+/- 0.00556) [boost_dt]\n",
            "f1_weighted Score: 0.98 (+/- 0.00034) [Base RT]\n",
            "f1_weighted Score: 0.98 (+/- 0.00070) [Boost RT]\n"
          ],
          "name": "stdout"
        }
      ]
    },
    {
      "cell_type": "markdown",
      "metadata": {
        "id": "vJUWj0Q7XkJu",
        "colab_type": "text"
      },
      "source": [
        "From the above scores we can say that Boosting the models has no use in this dataset.\n",
        "For Decision tree alone there is an increase in f1 with a trade off of variance error.\n",
        "Furthur it can be seen boosting can reduce bias with some little tradeoff of variance."
      ]
    }
  ]
}